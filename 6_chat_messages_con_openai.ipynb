{
  "nbformat": 4,
  "nbformat_minor": 0,
  "metadata": {
    "colab": {
      "provenance": []
    },
    "kernelspec": {
      "name": "python3",
      "display_name": "Python 3"
    },
    "language_info": {
      "name": "python"
    }
  },
  "cells": [
    {
      "cell_type": "markdown",
      "source": [
        "# Chat Models"
      ],
      "metadata": {
        "id": "ftWu1KHIBly_"
      }
    },
    {
      "cell_type": "code",
      "source": [
        "!pip install -qU langchain-openai"
      ],
      "metadata": {
        "id": "sWcpr423Bla6",
        "colab": {
          "base_uri": "https://localhost:8080/"
        },
        "outputId": "265b6565-9feb-40d4-e8b8-e8eb1e142f42"
      },
      "execution_count": 1,
      "outputs": [
        {
          "output_type": "stream",
          "name": "stdout",
          "text": [
            "\u001b[2K     \u001b[90m━━━━━━━━━━━━━━━━━━━━━━━━━━━━━━━━━━━━━━━━\u001b[0m \u001b[32m50.6/50.6 kB\u001b[0m \u001b[31m1.2 MB/s\u001b[0m eta \u001b[36m0:00:00\u001b[0m\n",
            "\u001b[2K   \u001b[90m━━━━━━━━━━━━━━━━━━━━━━━━━━━━━━━━━━━━━━━━\u001b[0m \u001b[32m49.9/49.9 kB\u001b[0m \u001b[31m1.9 MB/s\u001b[0m eta \u001b[36m0:00:00\u001b[0m\n",
            "\u001b[2K   \u001b[90m━━━━━━━━━━━━━━━━━━━━━━━━━━━━━━━━━━━━━━━━\u001b[0m \u001b[32m408.0/408.0 kB\u001b[0m \u001b[31m7.9 MB/s\u001b[0m eta \u001b[36m0:00:00\u001b[0m\n",
            "\u001b[2K   \u001b[90m━━━━━━━━━━━━━━━━━━━━━━━━━━━━━━━━━━━━━━━━\u001b[0m \u001b[32m386.9/386.9 kB\u001b[0m \u001b[31m5.8 MB/s\u001b[0m eta \u001b[36m0:00:00\u001b[0m\n",
            "\u001b[2K   \u001b[90m━━━━━━━━━━━━━━━━━━━━━━━━━━━━━━━━━━━━━━━━\u001b[0m \u001b[32m1.2/1.2 MB\u001b[0m \u001b[31m22.8 MB/s\u001b[0m eta \u001b[36m0:00:00\u001b[0m\n",
            "\u001b[2K   \u001b[90m━━━━━━━━━━━━━━━━━━━━━━━━━━━━━━━━━━━━━━━━\u001b[0m \u001b[32m76.4/76.4 kB\u001b[0m \u001b[31m3.2 MB/s\u001b[0m eta \u001b[36m0:00:00\u001b[0m\n",
            "\u001b[2K   \u001b[90m━━━━━━━━━━━━━━━━━━━━━━━━━━━━━━━━━━━━━━━━\u001b[0m \u001b[32m78.0/78.0 kB\u001b[0m \u001b[31m3.8 MB/s\u001b[0m eta \u001b[36m0:00:00\u001b[0m\n",
            "\u001b[2K   \u001b[90m━━━━━━━━━━━━━━━━━━━━━━━━━━━━━━━━━━━━━━━━\u001b[0m \u001b[32m325.2/325.2 kB\u001b[0m \u001b[31m11.1 MB/s\u001b[0m eta \u001b[36m0:00:00\u001b[0m\n",
            "\u001b[2K   \u001b[90m━━━━━━━━━━━━━━━━━━━━━━━━━━━━━━━━━━━━━━━━\u001b[0m \u001b[32m296.9/296.9 kB\u001b[0m \u001b[31m11.5 MB/s\u001b[0m eta \u001b[36m0:00:00\u001b[0m\n",
            "\u001b[2K   \u001b[90m━━━━━━━━━━━━━━━━━━━━━━━━━━━━━━━━━━━━━━━━\u001b[0m \u001b[32m144.5/144.5 kB\u001b[0m \u001b[31m7.2 MB/s\u001b[0m eta \u001b[36m0:00:00\u001b[0m\n",
            "\u001b[2K   \u001b[90m━━━━━━━━━━━━━━━━━━━━━━━━━━━━━━━━━━━━━━━━\u001b[0m \u001b[32m54.5/54.5 kB\u001b[0m \u001b[31m2.6 MB/s\u001b[0m eta \u001b[36m0:00:00\u001b[0m\n",
            "\u001b[2K   \u001b[90m━━━━━━━━━━━━━━━━━━━━━━━━━━━━━━━━━━━━━━━━\u001b[0m \u001b[32m58.3/58.3 kB\u001b[0m \u001b[31m2.5 MB/s\u001b[0m eta \u001b[36m0:00:00\u001b[0m\n",
            "\u001b[?25h"
          ]
        }
      ]
    },
    {
      "cell_type": "code",
      "execution_count": 2,
      "metadata": {
        "id": "6mmjWyA-BXM2",
        "colab": {
          "base_uri": "https://localhost:8080/"
        },
        "outputId": "01247812-979d-4b6a-c9d4-8af8b95eaa77"
      },
      "outputs": [
        {
          "name": "stdout",
          "output_type": "stream",
          "text": [
            "Enter your OpenAI API key: ··········\n"
          ]
        }
      ],
      "source": [
        "import getpass\n",
        "import os\n",
        "\n",
        "if \"OPENAI_API_KEY\" not in os.environ:\n",
        "    os.environ[\"OPENAI_API_KEY\"] = getpass.getpass(\"Enter your OpenAI API key: \")"
      ]
    },
    {
      "cell_type": "code",
      "source": [
        "from langchain_openai import ChatOpenAI\n",
        "\n",
        "model = ChatOpenAI(model=\"gpt-4o\")"
      ],
      "metadata": {
        "id": "FOIsvkh9BpA5"
      },
      "execution_count": 3,
      "outputs": []
    },
    {
      "cell_type": "code",
      "source": [
        "from langchain_core.messages import AIMessage, HumanMessage, SystemMessage\n",
        "\n",
        "messages = [ SystemMessage(content='Eres un asistente útil.'),\n",
        "            HumanMessage(content='Me ayudas a organizar las tareas del dia?'),\n",
        "             AIMessage(content='Claro! Que tareas necesitas completar hoy?'),\n",
        "             HumanMessage(content='Tengo que enviar un correo importante, hacer ejercicio y estudiar para un examen'),\n",
        "             AIMessage(content='Aquí tienes tu lista de tareas: 1. Enviar correo. 2. Hacer ejercicio. 3. Estudiar para el examen')\n",
        "]\n"
      ],
      "metadata": {
        "id": "NyyL4N-iBqUZ"
      },
      "execution_count": 4,
      "outputs": []
    },
    {
      "cell_type": "code",
      "source": [
        "response = model.invoke(messages)\n",
        "print(response)"
      ],
      "metadata": {
        "id": "St0xEnPJBrxp",
        "colab": {
          "base_uri": "https://localhost:8080/"
        },
        "outputId": "a9dd910d-83b4-4323-88dd-ece826e7ce57"
      },
      "execution_count": 5,
      "outputs": [
        {
          "output_type": "stream",
          "name": "stdout",
          "text": [
            "content='Aquí tienes una forma de organizar tu día:\\n\\n1. **Enviar el correo importante**: Comienza con esta tarea para sacarla del camino y asegurarte de que cualquier respuesta necesaria pueda llegar antes. Puedes dedicar la primera hora de tu día a redactar y revisar el correo para asegurarte de que sea claro y conciso.\\n\\n2. **Hacer ejercicio**: Es una buena idea hacer ejercicio a media mañana o después del correo. Esto te ayudará a despejar la mente y aumentar tu energía para el resto del día. Puedes dedicar entre 30 minutos a una hora, dependiendo de tu rutina.\\n\\n3. **Estudiar para el examen**: Dedica el tiempo restante a estudiar. Es útil dividir el tiempo de estudio en bloques con descansos cortos entre ellos (por ejemplo, 25 minutos de estudio con 5 minutos de descanso, conocido como la técnica Pomodoro) para mantener la concentración y evitar el agotamiento.\\n\\nRecuerda adaptar los horarios según tus preferencias personales y otros compromisos que puedas tener. ¡Buena suerte con tus tareas!' additional_kwargs={'refusal': None} response_metadata={'token_usage': {'completion_tokens': 214, 'prompt_tokens': 91, 'total_tokens': 305, 'completion_tokens_details': {'audio_tokens': None, 'reasoning_tokens': 0}, 'prompt_tokens_details': {'audio_tokens': None, 'cached_tokens': 0}}, 'model_name': 'gpt-4o-2024-08-06', 'system_fingerprint': 'fp_72bbfa6014', 'finish_reason': 'stop', 'logprobs': None} id='run-c2383680-0ed2-41e7-8eeb-f629941f005a-0' usage_metadata={'input_tokens': 91, 'output_tokens': 214, 'total_tokens': 305, 'input_token_details': {'cache_read': 0}, 'output_token_details': {'reasoning': 0}}\n"
          ]
        }
      ]
    },
    {
      "cell_type": "code",
      "source": [
        "print(response.content)"
      ],
      "metadata": {
        "id": "MuyNJDbDBs7w",
        "colab": {
          "base_uri": "https://localhost:8080/"
        },
        "outputId": "7d191a41-50e9-496b-dabb-c96875b58eae"
      },
      "execution_count": 6,
      "outputs": [
        {
          "output_type": "stream",
          "name": "stdout",
          "text": [
            "Aquí tienes una forma de organizar tu día:\n",
            "\n",
            "1. **Enviar el correo importante**: Comienza con esta tarea para sacarla del camino y asegurarte de que cualquier respuesta necesaria pueda llegar antes. Puedes dedicar la primera hora de tu día a redactar y revisar el correo para asegurarte de que sea claro y conciso.\n",
            "\n",
            "2. **Hacer ejercicio**: Es una buena idea hacer ejercicio a media mañana o después del correo. Esto te ayudará a despejar la mente y aumentar tu energía para el resto del día. Puedes dedicar entre 30 minutos a una hora, dependiendo de tu rutina.\n",
            "\n",
            "3. **Estudiar para el examen**: Dedica el tiempo restante a estudiar. Es útil dividir el tiempo de estudio en bloques con descansos cortos entre ellos (por ejemplo, 25 minutos de estudio con 5 minutos de descanso, conocido como la técnica Pomodoro) para mantener la concentración y evitar el agotamiento.\n",
            "\n",
            "Recuerda adaptar los horarios según tus preferencias personales y otros compromisos que puedas tener. ¡Buena suerte con tus tareas!\n"
          ]
        }
      ]
    },
    {
      "cell_type": "code",
      "source": [
        "from langchain_core.messages import trim_messages\n",
        "trim_messages(\n",
        "    messages,\n",
        "    max_tokens=100,\n",
        "    strategy='last',\n",
        "    token_counter=ChatOpenAI(model='gpt-4o'),\n",
        "    include_system = True\n",
        ")"
      ],
      "metadata": {
        "id": "BVdhWI10BuZP",
        "colab": {
          "base_uri": "https://localhost:8080/"
        },
        "outputId": "e79f78f3-8bd4-417d-8b38-40898b16b4a3"
      },
      "execution_count": 7,
      "outputs": [
        {
          "output_type": "execute_result",
          "data": {
            "text/plain": [
              "[SystemMessage(content='Eres un asistente útil.', additional_kwargs={}, response_metadata={}),\n",
              " HumanMessage(content='Me ayudas a organizar las tareas del dia?', additional_kwargs={}, response_metadata={}),\n",
              " AIMessage(content='Claro! Que tareas necesitas completar hoy?', additional_kwargs={}, response_metadata={}),\n",
              " HumanMessage(content='Tengo que enviar un correo importante, hacer ejercicio y estudiar para un examen', additional_kwargs={}, response_metadata={}),\n",
              " AIMessage(content='Aquí tienes tu lista de tareas: 1. Enviar correo. 2. Hacer ejercicio. 3. Estudiar para el examen', additional_kwargs={}, response_metadata={})]"
            ]
          },
          "metadata": {},
          "execution_count": 7
        }
      ]
    }
  ]
}