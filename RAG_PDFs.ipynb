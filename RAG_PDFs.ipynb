{
  "nbformat": 4,
  "nbformat_minor": 0,
  "metadata": {
    "colab": {
      "provenance": []
    },
    "kernelspec": {
      "name": "python3",
      "display_name": "Python 3"
    },
    "language_info": {
      "name": "python"
    }
  },
  "cells": [
    {
      "cell_type": "code",
      "execution_count": 1,
      "metadata": {
        "colab": {
          "base_uri": "https://localhost:8080/"
        },
        "id": "_7kzyneuGX3Z",
        "outputId": "58c70628-a70d-4897-f95f-1f8be0685d69"
      },
      "outputs": [
        {
          "name": "stdout",
          "output_type": "stream",
          "text": [
            "Enter your OpenAI API key: ··········\n"
          ]
        }
      ],
      "source": [
        "import getpass\n",
        "import os\n",
        "\n",
        "if \"OPENAI_API_KEY\" not in os.environ:\n",
        "    os.environ[\"OPENAI_API_KEY\"] = getpass.getpass(\"Enter your OpenAI API key: \")"
      ]
    },
    {
      "cell_type": "code",
      "source": [
        "!pip install -qU langchain langchain_community unstructured langchain_openai"
      ],
      "metadata": {
        "colab": {
          "base_uri": "https://localhost:8080/"
        },
        "id": "ufwG0yv0GhKn",
        "outputId": "865e9911-4970-4ae4-adb5-054e06df6ac3"
      },
      "execution_count": 3,
      "outputs": [
        {
          "output_type": "stream",
          "name": "stdout",
          "text": [
            "\u001b[?25l     \u001b[90m━━━━━━━━━━━━━━━━━━━━━━━━━━━━━━━━━━━━━━━━\u001b[0m \u001b[32m0.0/981.5 kB\u001b[0m \u001b[31m?\u001b[0m eta \u001b[36m-:--:--\u001b[0m\r\u001b[2K     \u001b[91m━━━━━━━━━━━━━━━━━━━━━━━━━━━━━━━━━━━\u001b[0m\u001b[91m╸\u001b[0m\u001b[90m━━━━\u001b[0m \u001b[32m880.6/981.5 kB\u001b[0m \u001b[31m23.7 MB/s\u001b[0m eta \u001b[36m0:00:01\u001b[0m\r\u001b[2K     \u001b[90m━━━━━━━━━━━━━━━━━━━━━━━━━━━━━━━━━━━━━━━━\u001b[0m \u001b[32m981.5/981.5 kB\u001b[0m \u001b[31m16.8 MB/s\u001b[0m eta \u001b[36m0:00:00\u001b[0m\n",
            "\u001b[?25h  Preparing metadata (setup.py) ... \u001b[?25l\u001b[?25hdone\n",
            "\u001b[2K   \u001b[90m━━━━━━━━━━━━━━━━━━━━━━━━━━━━━━━━━━━━━━━━\u001b[0m \u001b[32m1.0/1.0 MB\u001b[0m \u001b[31m42.3 MB/s\u001b[0m eta \u001b[36m0:00:00\u001b[0m\n",
            "\u001b[2K   \u001b[90m━━━━━━━━━━━━━━━━━━━━━━━━━━━━━━━━━━━━━━━━\u001b[0m \u001b[32m2.4/2.4 MB\u001b[0m \u001b[31m50.1 MB/s\u001b[0m eta \u001b[36m0:00:00\u001b[0m\n",
            "\u001b[2K   \u001b[90m━━━━━━━━━━━━━━━━━━━━━━━━━━━━━━━━━━━━━━━━\u001b[0m \u001b[32m1.7/1.7 MB\u001b[0m \u001b[31m47.5 MB/s\u001b[0m eta \u001b[36m0:00:00\u001b[0m\n",
            "\u001b[2K   \u001b[90m━━━━━━━━━━━━━━━━━━━━━━━━━━━━━━━━━━━━━━━━\u001b[0m \u001b[32m50.4/50.4 kB\u001b[0m \u001b[31m2.9 MB/s\u001b[0m eta \u001b[36m0:00:00\u001b[0m\n",
            "\u001b[2K   \u001b[90m━━━━━━━━━━━━━━━━━━━━━━━━━━━━━━━━━━━━━━━━\u001b[0m \u001b[32m408.7/408.7 kB\u001b[0m \u001b[31m21.0 MB/s\u001b[0m eta \u001b[36m0:00:00\u001b[0m\n",
            "\u001b[2K   \u001b[90m━━━━━━━━━━━━━━━━━━━━━━━━━━━━━━━━━━━━━━━━\u001b[0m \u001b[32m3.1/3.1 MB\u001b[0m \u001b[31m40.1 MB/s\u001b[0m eta \u001b[36m0:00:00\u001b[0m\n",
            "\u001b[2K   \u001b[90m━━━━━━━━━━━━━━━━━━━━━━━━━━━━━━━━━━━━━━━━\u001b[0m \u001b[32m1.2/1.2 MB\u001b[0m \u001b[31m50.2 MB/s\u001b[0m eta \u001b[36m0:00:00\u001b[0m\n",
            "\u001b[2K   \u001b[90m━━━━━━━━━━━━━━━━━━━━━━━━━━━━━━━━━━━━━━━━\u001b[0m \u001b[32m586.9/586.9 kB\u001b[0m \u001b[31m29.5 MB/s\u001b[0m eta \u001b[36m0:00:00\u001b[0m\n",
            "\u001b[2K   \u001b[90m━━━━━━━━━━━━━━━━━━━━━━━━━━━━━━━━━━━━━━━━\u001b[0m \u001b[32m274.9/274.9 kB\u001b[0m \u001b[31m17.2 MB/s\u001b[0m eta \u001b[36m0:00:00\u001b[0m\n",
            "\u001b[2K   \u001b[90m━━━━━━━━━━━━━━━━━━━━━━━━━━━━━━━━━━━━━━━━\u001b[0m \u001b[32m3.1/3.1 MB\u001b[0m \u001b[31m60.7 MB/s\u001b[0m eta \u001b[36m0:00:00\u001b[0m\n",
            "\u001b[2K   \u001b[90m━━━━━━━━━━━━━━━━━━━━━━━━━━━━━━━━━━━━━━━━\u001b[0m \u001b[32m60.0/60.0 kB\u001b[0m \u001b[31m3.9 MB/s\u001b[0m eta \u001b[36m0:00:00\u001b[0m\n",
            "\u001b[2K   \u001b[90m━━━━━━━━━━━━━━━━━━━━━━━━━━━━━━━━━━━━━━━━\u001b[0m \u001b[32m49.5/49.5 kB\u001b[0m \u001b[31m3.3 MB/s\u001b[0m eta \u001b[36m0:00:00\u001b[0m\n",
            "\u001b[2K   \u001b[90m━━━━━━━━━━━━━━━━━━━━━━━━━━━━━━━━━━━━━━━━\u001b[0m \u001b[32m298.0/298.0 kB\u001b[0m \u001b[31m18.8 MB/s\u001b[0m eta \u001b[36m0:00:00\u001b[0m\n",
            "\u001b[2K   \u001b[90m━━━━━━━━━━━━━━━━━━━━━━━━━━━━━━━━━━━━━━━━\u001b[0m \u001b[32m114.6/114.6 kB\u001b[0m \u001b[31m6.4 MB/s\u001b[0m eta \u001b[36m0:00:00\u001b[0m\n",
            "\u001b[?25h  Building wheel for langdetect (setup.py) ... \u001b[?25l\u001b[?25hdone\n"
          ]
        }
      ]
    },
    {
      "cell_type": "code",
      "source": [
        "!pip install --upgrade --quiet pypdf"
      ],
      "metadata": {
        "id": "DV122U_1GvXA"
      },
      "execution_count": 6,
      "outputs": []
    },
    {
      "cell_type": "code",
      "source": [
        "from langchain_community.document_loaders import DirectoryLoader, PyPDFLoader"
      ],
      "metadata": {
        "id": "sLILzXOVG3-e"
      },
      "execution_count": 8,
      "outputs": []
    },
    {
      "cell_type": "code",
      "source": [
        "loader = DirectoryLoader(\n",
        "    './pdfs',\n",
        "    glob='*.pdf',\n",
        "    show_progress=True,\n",
        "    loader_cls=PyPDFLoader\n",
        ")"
      ],
      "metadata": {
        "id": "j88UTDydHPnL"
      },
      "execution_count": 13,
      "outputs": []
    },
    {
      "cell_type": "code",
      "source": [
        "pages = loader.load()"
      ],
      "metadata": {
        "colab": {
          "base_uri": "https://localhost:8080/"
        },
        "id": "0flkCRAYNUGL",
        "outputId": "efa17075-0ea9-4d25-d0e9-07375104fdc5"
      },
      "execution_count": 14,
      "outputs": [
        {
          "output_type": "stream",
          "name": "stderr",
          "text": [
            "100%|██████████| 4/4 [00:00<00:00, 43.61it/s]\n"
          ]
        }
      ]
    },
    {
      "cell_type": "code",
      "source": [
        "pages"
      ],
      "metadata": {
        "colab": {
          "base_uri": "https://localhost:8080/"
        },
        "id": "x7Sk7ExhNgp8",
        "outputId": "7667d46f-9589-404f-b3e5-2cba1e207b62"
      },
      "execution_count": 15,
      "outputs": [
        {
          "output_type": "execute_result",
          "data": {
            "text/plain": [
              "[Document(metadata={'source': 'pdfs/Retos_Oportunidades_Fintech_Insurtech_Mexico.pdf', 'page': 0}, page_content='Retos y Oportunidades para Fintech e Insurtech en México\\nEl sector de fintech e insurtech en México enfrenta tanto retos como oportunidades. Entre los\\nprincipales desafíos se encuentran la falta de confianza del público en los servicios digitales, la\\nnecesidad de regulación adecuada y el acceso limitado a la tecnología en zonas rurales. Sin\\nembargo, también existen grandes oportunidades, como la posibilidad de incluir financieramente a\\nmillones de mexicanos que actualmente no cuentan con servicios bancarios. La innovación en\\ntecnología y la digitalización representan áreas clave para que el sector fintech e insurtech continúe\\ncreciendo, proporcionando a los usuarios servicios más accesibles y personalizados.'),\n",
              " Document(metadata={'source': 'pdfs/Innovacion_Insurtech_Sector_Asegurador.pdf', 'page': 0}, page_content='Insurtech: Innovación en el Sector Asegurador Mexicano\\nEl sector de insurtech en México está transformando el acceso y la administración de seguros. Las\\nempresas insurtech aprovechan la tecnología para mejorar la experiencia del cliente, personalizar\\nproductos y agilizar procesos de reclamación. En México, algunas startups han comenzado a\\nofrecer seguros digitales con procesos de contratación rápidos y sencillos, adaptándose a las\\nnecesidades de un público joven y digitalizado. Estas innovaciones han permitido que más\\npersonas tengan acceso a seguros básicos, promoviendo así una mayor inclusión financiera.'),\n",
              " Document(metadata={'source': 'pdfs/Ley_Fintech_Impacto_Ecosistema_Mexicano.pdf', 'page': 0}, page_content='La Ley Fintech y su Impacto en el Ecosistema Financiero Mexicano\\nLa Ley para Regular las Instituciones de Tecnología Financiera, mejor conocida como Ley Fintech,\\nfue promulgada en 2018 en México y establece un marco regulatorio para las empresas de\\ntecnología financiera. Su objetivo es promover la transparencia, la seguridad y la estabilidad\\nfinanciera, permitiendo que las fintech operen bajo una regulación formal. Esta ley ha sido crucial\\npara dar confianza a los usuarios y atraer inversión extranjera en el sector fintech mexicano.\\nAdemás, fomenta la competencia e innovación, permitiendo un ecosistema financiero más diverso y\\naccesible.'),\n",
              " Document(metadata={'source': 'pdfs/Panorama_Actual_Fintech_Mexico.pdf', 'page': 0}, page_content='Panorama Actual de la Fintech en México\\nLa industria fintech en México ha experimentado un crecimiento significativo en los últimos años.\\nCon una población joven y un acceso cada vez mayor a la tecnología, las empresas fintech han\\naprovechado la oportunidad para ofrecer servicios financieros a quienes tradicionalmente no han\\ntenido acceso a ellos. El mercado de fintech en México se enfoca principalmente en pagos,\\npréstamos y financiamiento colectivo, aunque también han surgido innovaciones en blockchain y\\ncriptomonedas. El sector se enfrenta a desafíos como la regulación y la confianza de los usuarios,\\npero continúa expandiéndose con el apoyo de la Ley Fintech.')]"
            ]
          },
          "metadata": {},
          "execution_count": 15
        }
      ]
    },
    {
      "cell_type": "code",
      "source": [
        "from langchain_text_splitters import RecursiveCharacterTextSplitter"
      ],
      "metadata": {
        "id": "qmb198MlNmEj"
      },
      "execution_count": 16,
      "outputs": []
    },
    {
      "cell_type": "code",
      "source": [
        "text_splitter = RecursiveCharacterTextSplitter(\n",
        "    chunk_size=100,\n",
        "    chunk_overlap=20,\n",
        "    separators=[\"\\n\\n\", \"\\n\", \"(?<=\\. )\", \" \", \"\"]\n",
        ")\n",
        "splits = text_splitter.split_documents(pages)"
      ],
      "metadata": {
        "id": "ByqM013SNs6E"
      },
      "execution_count": 17,
      "outputs": []
    },
    {
      "cell_type": "code",
      "source": [
        "splits"
      ],
      "metadata": {
        "colab": {
          "base_uri": "https://localhost:8080/"
        },
        "id": "Qo6XQsNEN9UW",
        "outputId": "fcf51b36-1efa-4c1e-aa98-01f998fe805c"
      },
      "execution_count": 18,
      "outputs": [
        {
          "output_type": "execute_result",
          "data": {
            "text/plain": [
              "[Document(metadata={'source': 'pdfs/Retos_Oportunidades_Fintech_Insurtech_Mexico.pdf', 'page': 0}, page_content='Retos y Oportunidades para Fintech e Insurtech en México'),\n",
              " Document(metadata={'source': 'pdfs/Retos_Oportunidades_Fintech_Insurtech_Mexico.pdf', 'page': 0}, page_content='El sector de fintech e insurtech en México enfrenta tanto retos como oportunidades. Entre los'),\n",
              " Document(metadata={'source': 'pdfs/Retos_Oportunidades_Fintech_Insurtech_Mexico.pdf', 'page': 0}, page_content='principales desafíos se encuentran la falta de confianza del público en los servicios digitales, la'),\n",
              " Document(metadata={'source': 'pdfs/Retos_Oportunidades_Fintech_Insurtech_Mexico.pdf', 'page': 0}, page_content='necesidad de regulación adecuada y el acceso limitado a la tecnología en zonas rurales. Sin'),\n",
              " Document(metadata={'source': 'pdfs/Retos_Oportunidades_Fintech_Insurtech_Mexico.pdf', 'page': 0}, page_content='embargo, también existen grandes oportunidades, como la posibilidad de incluir financieramente a'),\n",
              " Document(metadata={'source': 'pdfs/Retos_Oportunidades_Fintech_Insurtech_Mexico.pdf', 'page': 0}, page_content='millones de mexicanos que actualmente no cuentan con servicios bancarios. La innovación en'),\n",
              " Document(metadata={'source': 'pdfs/Retos_Oportunidades_Fintech_Insurtech_Mexico.pdf', 'page': 0}, page_content='tecnología y la digitalización representan áreas clave para que el sector fintech e insurtech'),\n",
              " Document(metadata={'source': 'pdfs/Retos_Oportunidades_Fintech_Insurtech_Mexico.pdf', 'page': 0}, page_content='fintech e insurtech continúe'),\n",
              " Document(metadata={'source': 'pdfs/Retos_Oportunidades_Fintech_Insurtech_Mexico.pdf', 'page': 0}, page_content='creciendo, proporcionando a los usuarios servicios más accesibles y personalizados.'),\n",
              " Document(metadata={'source': 'pdfs/Innovacion_Insurtech_Sector_Asegurador.pdf', 'page': 0}, page_content='Insurtech: Innovación en el Sector Asegurador Mexicano'),\n",
              " Document(metadata={'source': 'pdfs/Innovacion_Insurtech_Sector_Asegurador.pdf', 'page': 0}, page_content='El sector de insurtech en México está transformando el acceso y la administración de seguros. Las'),\n",
              " Document(metadata={'source': 'pdfs/Innovacion_Insurtech_Sector_Asegurador.pdf', 'page': 0}, page_content='empresas insurtech aprovechan la tecnología para mejorar la experiencia del cliente, personalizar'),\n",
              " Document(metadata={'source': 'pdfs/Innovacion_Insurtech_Sector_Asegurador.pdf', 'page': 0}, page_content='productos y agilizar procesos de reclamación. En México, algunas startups han comenzado a'),\n",
              " Document(metadata={'source': 'pdfs/Innovacion_Insurtech_Sector_Asegurador.pdf', 'page': 0}, page_content='ofrecer seguros digitales con procesos de contratación rápidos y sencillos, adaptándose a las'),\n",
              " Document(metadata={'source': 'pdfs/Innovacion_Insurtech_Sector_Asegurador.pdf', 'page': 0}, page_content='necesidades de un público joven y digitalizado. Estas innovaciones han permitido que más'),\n",
              " Document(metadata={'source': 'pdfs/Innovacion_Insurtech_Sector_Asegurador.pdf', 'page': 0}, page_content='personas tengan acceso a seguros básicos, promoviendo así una mayor inclusión financiera.'),\n",
              " Document(metadata={'source': 'pdfs/Ley_Fintech_Impacto_Ecosistema_Mexicano.pdf', 'page': 0}, page_content='La Ley Fintech y su Impacto en el Ecosistema Financiero Mexicano'),\n",
              " Document(metadata={'source': 'pdfs/Ley_Fintech_Impacto_Ecosistema_Mexicano.pdf', 'page': 0}, page_content='La Ley para Regular las Instituciones de Tecnología Financiera, mejor conocida como Ley Fintech,'),\n",
              " Document(metadata={'source': 'pdfs/Ley_Fintech_Impacto_Ecosistema_Mexicano.pdf', 'page': 0}, page_content='fue promulgada en 2018 en México y establece un marco regulatorio para las empresas de'),\n",
              " Document(metadata={'source': 'pdfs/Ley_Fintech_Impacto_Ecosistema_Mexicano.pdf', 'page': 0}, page_content='tecnología financiera. Su objetivo es promover la transparencia, la seguridad y la estabilidad'),\n",
              " Document(metadata={'source': 'pdfs/Ley_Fintech_Impacto_Ecosistema_Mexicano.pdf', 'page': 0}, page_content='financiera, permitiendo que las fintech operen bajo una regulación formal. Esta ley ha sido crucial'),\n",
              " Document(metadata={'source': 'pdfs/Ley_Fintech_Impacto_Ecosistema_Mexicano.pdf', 'page': 0}, page_content='para dar confianza a los usuarios y atraer inversión extranjera en el sector fintech mexicano.'),\n",
              " Document(metadata={'source': 'pdfs/Ley_Fintech_Impacto_Ecosistema_Mexicano.pdf', 'page': 0}, page_content='Además, fomenta la competencia e innovación, permitiendo un ecosistema financiero más diverso y'),\n",
              " Document(metadata={'source': 'pdfs/Ley_Fintech_Impacto_Ecosistema_Mexicano.pdf', 'page': 0}, page_content='accesible.'),\n",
              " Document(metadata={'source': 'pdfs/Panorama_Actual_Fintech_Mexico.pdf', 'page': 0}, page_content='Panorama Actual de la Fintech en México'),\n",
              " Document(metadata={'source': 'pdfs/Panorama_Actual_Fintech_Mexico.pdf', 'page': 0}, page_content='La industria fintech en México ha experimentado un crecimiento significativo en los últimos años.'),\n",
              " Document(metadata={'source': 'pdfs/Panorama_Actual_Fintech_Mexico.pdf', 'page': 0}, page_content='Con una población joven y un acceso cada vez mayor a la tecnología, las empresas fintech han'),\n",
              " Document(metadata={'source': 'pdfs/Panorama_Actual_Fintech_Mexico.pdf', 'page': 0}, page_content='aprovechado la oportunidad para ofrecer servicios financieros a quienes tradicionalmente no han'),\n",
              " Document(metadata={'source': 'pdfs/Panorama_Actual_Fintech_Mexico.pdf', 'page': 0}, page_content='tenido acceso a ellos. El mercado de fintech en México se enfoca principalmente en pagos,'),\n",
              " Document(metadata={'source': 'pdfs/Panorama_Actual_Fintech_Mexico.pdf', 'page': 0}, page_content='préstamos y financiamiento colectivo, aunque también han surgido innovaciones en blockchain y'),\n",
              " Document(metadata={'source': 'pdfs/Panorama_Actual_Fintech_Mexico.pdf', 'page': 0}, page_content='criptomonedas. El sector se enfrenta a desafíos como la regulación y la confianza de los usuarios,'),\n",
              " Document(metadata={'source': 'pdfs/Panorama_Actual_Fintech_Mexico.pdf', 'page': 0}, page_content='pero continúa expandiéndose con el apoyo de la Ley Fintech.')]"
            ]
          },
          "metadata": {},
          "execution_count": 18
        }
      ]
    },
    {
      "cell_type": "code",
      "source": [
        "splits[0]"
      ],
      "metadata": {
        "colab": {
          "base_uri": "https://localhost:8080/"
        },
        "id": "61rUE1DoOA7z",
        "outputId": "aa2f41fe-2563-4104-bae3-473ef34fc7ab"
      },
      "execution_count": 19,
      "outputs": [
        {
          "output_type": "execute_result",
          "data": {
            "text/plain": [
              "Document(metadata={'source': 'pdfs/Retos_Oportunidades_Fintech_Insurtech_Mexico.pdf', 'page': 0}, page_content='Retos y Oportunidades para Fintech e Insurtech en México')"
            ]
          },
          "metadata": {},
          "execution_count": 19
        }
      ]
    },
    {
      "cell_type": "code",
      "source": [
        "!pip install --quiet langchain_chroma"
      ],
      "metadata": {
        "colab": {
          "base_uri": "https://localhost:8080/"
        },
        "id": "cMEmmmi0OHzz",
        "outputId": "da016c11-81ef-49f6-a2f7-f5e11175bc8b"
      },
      "execution_count": 21,
      "outputs": [
        {
          "output_type": "stream",
          "name": "stdout",
          "text": [
            "\u001b[?25l     \u001b[90m━━━━━━━━━━━━━━━━━━━━━━━━━━━━━━━━━━━━━━━━\u001b[0m \u001b[32m0.0/67.3 kB\u001b[0m \u001b[31m?\u001b[0m eta \u001b[36m-:--:--\u001b[0m\r\u001b[2K     \u001b[90m━━━━━━━━━━━━━━━━━━━━━━━━━━━━━━━━━━━━━━━━\u001b[0m \u001b[32m67.3/67.3 kB\u001b[0m \u001b[31m2.9 MB/s\u001b[0m eta \u001b[36m0:00:00\u001b[0m\n",
            "\u001b[?25h  Installing build dependencies ... \u001b[?25l\u001b[?25hdone\n",
            "  Getting requirements to build wheel ... \u001b[?25l\u001b[?25hdone\n",
            "  Preparing metadata (pyproject.toml) ... \u001b[?25l\u001b[?25hdone\n",
            "\u001b[2K   \u001b[90m━━━━━━━━━━━━━━━━━━━━━━━━━━━━━━━━━━━━━━━━\u001b[0m \u001b[32m615.7/615.7 kB\u001b[0m \u001b[31m12.8 MB/s\u001b[0m eta \u001b[36m0:00:00\u001b[0m\n",
            "\u001b[2K   \u001b[90m━━━━━━━━━━━━━━━━━━━━━━━━━━━━━━━━━━━━━━━━\u001b[0m \u001b[32m2.4/2.4 MB\u001b[0m \u001b[31m56.4 MB/s\u001b[0m eta \u001b[36m0:00:00\u001b[0m\n",
            "\u001b[2K   \u001b[90m━━━━━━━━━━━━━━━━━━━━━━━━━━━━━━━━━━━━━━━━\u001b[0m \u001b[32m94.7/94.7 kB\u001b[0m \u001b[31m5.3 MB/s\u001b[0m eta \u001b[36m0:00:00\u001b[0m\n",
            "\u001b[2K   \u001b[90m━━━━━━━━━━━━━━━━━━━━━━━━━━━━━━━━━━━━━━━━\u001b[0m \u001b[32m273.8/273.8 kB\u001b[0m \u001b[31m15.5 MB/s\u001b[0m eta \u001b[36m0:00:00\u001b[0m\n",
            "\u001b[2K   \u001b[90m━━━━━━━━━━━━━━━━━━━━━━━━━━━━━━━━━━━━━━━━\u001b[0m \u001b[32m1.9/1.9 MB\u001b[0m \u001b[31m54.0 MB/s\u001b[0m eta \u001b[36m0:00:00\u001b[0m\n",
            "\u001b[2K   \u001b[90m━━━━━━━━━━━━━━━━━━━━━━━━━━━━━━━━━━━━━━━━\u001b[0m \u001b[32m93.2/93.2 kB\u001b[0m \u001b[31m4.9 MB/s\u001b[0m eta \u001b[36m0:00:00\u001b[0m\n",
            "\u001b[2K   \u001b[90m━━━━━━━━━━━━━━━━━━━━━━━━━━━━━━━━━━━━━━━━\u001b[0m \u001b[32m13.3/13.3 MB\u001b[0m \u001b[31m71.4 MB/s\u001b[0m eta \u001b[36m0:00:00\u001b[0m\n",
            "\u001b[2K   \u001b[90m━━━━━━━━━━━━━━━━━━━━━━━━━━━━━━━━━━━━━━━━\u001b[0m \u001b[32m52.5/52.5 kB\u001b[0m \u001b[31m2.7 MB/s\u001b[0m eta \u001b[36m0:00:00\u001b[0m\n",
            "\u001b[2K   \u001b[90m━━━━━━━━━━━━━━━━━━━━━━━━━━━━━━━━━━━━━━━━\u001b[0m \u001b[32m149.7/149.7 kB\u001b[0m \u001b[31m7.3 MB/s\u001b[0m eta \u001b[36m0:00:00\u001b[0m\n",
            "\u001b[2K   \u001b[90m━━━━━━━━━━━━━━━━━━━━━━━━━━━━━━━━━━━━━━━━\u001b[0m \u001b[32m64.0/64.0 kB\u001b[0m \u001b[31m3.9 MB/s\u001b[0m eta \u001b[36m0:00:00\u001b[0m\n",
            "\u001b[2K   \u001b[90m━━━━━━━━━━━━━━━━━━━━━━━━━━━━━━━━━━━━━━━━\u001b[0m \u001b[32m110.5/110.5 kB\u001b[0m \u001b[31m6.1 MB/s\u001b[0m eta \u001b[36m0:00:00\u001b[0m\n",
            "\u001b[2K   \u001b[90m━━━━━━━━━━━━━━━━━━━━━━━━━━━━━━━━━━━━━━━━\u001b[0m \u001b[32m54.4/54.4 kB\u001b[0m \u001b[31m2.9 MB/s\u001b[0m eta \u001b[36m0:00:00\u001b[0m\n",
            "\u001b[2K   \u001b[90m━━━━━━━━━━━━━━━━━━━━━━━━━━━━━━━━━━━━━━━━\u001b[0m \u001b[32m73.3/73.3 kB\u001b[0m \u001b[31m3.7 MB/s\u001b[0m eta \u001b[36m0:00:00\u001b[0m\n",
            "\u001b[2K   \u001b[90m━━━━━━━━━━━━━━━━━━━━━━━━━━━━━━━━━━━━━━━━\u001b[0m \u001b[32m63.7/63.7 kB\u001b[0m \u001b[31m3.2 MB/s\u001b[0m eta \u001b[36m0:00:00\u001b[0m\n",
            "\u001b[2K   \u001b[90m━━━━━━━━━━━━━━━━━━━━━━━━━━━━━━━━━━━━━━━━\u001b[0m \u001b[32m442.1/442.1 kB\u001b[0m \u001b[31m22.0 MB/s\u001b[0m eta \u001b[36m0:00:00\u001b[0m\n",
            "\u001b[2K   \u001b[90m━━━━━━━━━━━━━━━━━━━━━━━━━━━━━━━━━━━━━━━━\u001b[0m \u001b[32m3.8/3.8 MB\u001b[0m \u001b[31m51.5 MB/s\u001b[0m eta \u001b[36m0:00:00\u001b[0m\n",
            "\u001b[2K   \u001b[90m━━━━━━━━━━━━━━━━━━━━━━━━━━━━━━━━━━━━━━━━\u001b[0m \u001b[32m425.7/425.7 kB\u001b[0m \u001b[31m23.8 MB/s\u001b[0m eta \u001b[36m0:00:00\u001b[0m\n",
            "\u001b[2K   \u001b[90m━━━━━━━━━━━━━━━━━━━━━━━━━━━━━━━━━━━━━━━━\u001b[0m \u001b[32m164.1/164.1 kB\u001b[0m \u001b[31m10.4 MB/s\u001b[0m eta \u001b[36m0:00:00\u001b[0m\n",
            "\u001b[2K   \u001b[90m━━━━━━━━━━━━━━━━━━━━━━━━━━━━━━━━━━━━━━━━\u001b[0m \u001b[32m46.0/46.0 kB\u001b[0m \u001b[31m2.9 MB/s\u001b[0m eta \u001b[36m0:00:00\u001b[0m\n",
            "\u001b[2K   \u001b[90m━━━━━━━━━━━━━━━━━━━━━━━━━━━━━━━━━━━━━━━━\u001b[0m \u001b[32m86.8/86.8 kB\u001b[0m \u001b[31m6.0 MB/s\u001b[0m eta \u001b[36m0:00:00\u001b[0m\n",
            "\u001b[?25h  Building wheel for pypika (pyproject.toml) ... \u001b[?25l\u001b[?25hdone\n"
          ]
        }
      ]
    },
    {
      "cell_type": "code",
      "source": [
        "from langchain_chroma import Chroma\n",
        "from langchain_openai import OpenAIEmbeddings"
      ],
      "metadata": {
        "id": "sgZILHxVObKs"
      },
      "execution_count": 22,
      "outputs": []
    },
    {
      "cell_type": "code",
      "source": [
        "vectorstore = Chroma.from_documents(\n",
        "    documents=splits,\n",
        "    embedding=OpenAIEmbeddings()\n",
        ")"
      ],
      "metadata": {
        "id": "qHRkvWBVO3GM"
      },
      "execution_count": 24,
      "outputs": []
    },
    {
      "cell_type": "markdown",
      "source": [
        "##Retrieval"
      ],
      "metadata": {
        "id": "MbZaH3HQPGSv"
      }
    },
    {
      "cell_type": "code",
      "source": [
        "retriever = vectorstore.as_retriever()"
      ],
      "metadata": {
        "id": "BT8DvJoQPVX_"
      },
      "execution_count": 26,
      "outputs": []
    },
    {
      "cell_type": "code",
      "source": [
        "system_propmt = (\n",
        "    'Eres un asistente que devuelve informacion de pdfs, ademas incluye emojis a cada una de las respuestas. Tienes el siguiente contexto {}'\n",
        ")"
      ],
      "metadata": {
        "id": "Umk2lBDsP2yb"
      },
      "execution_count": 27,
      "outputs": []
    },
    {
      "cell_type": "code",
      "source": [
        "from langchain_openai import ChatOpenAI"
      ],
      "metadata": {
        "id": "LQwFXww-QLrT"
      },
      "execution_count": 28,
      "outputs": []
    },
    {
      "cell_type": "code",
      "source": [
        "llm = ChatOpenAI(\n",
        "    model_name='gpt-3.5-turbo',\n",
        "    temperature=0,\n",
        "    max_tokens=150\n",
        ")"
      ],
      "metadata": {
        "id": "uvBUOQcTQTzw"
      },
      "execution_count": 30,
      "outputs": []
    },
    {
      "cell_type": "code",
      "source": [
        "from langchain_core.prompts import PromptTemplate, ChatPromptTemplate, MessagesPlaceholder\n",
        "from langchain.chains import create_history_aware_retriever, create_retrieval_chain"
      ],
      "metadata": {
        "id": "MaRSbNIpkG7x"
      },
      "execution_count": 31,
      "outputs": []
    },
    {
      "cell_type": "code",
      "source": [
        "contextualize_q_system_prompt = (\n",
        "    'Responde segun el historial de chat y la ultima pregunta del usuario'\n",
        "    'si no está en el historial de chat o en el contexto no respondas'\n",
        "    'Ademas responde de manera profesional a la pregunta y siempre responde en español'\n",
        ")"
      ],
      "metadata": {
        "id": "FiCP3YdElDzX"
      },
      "execution_count": 32,
      "outputs": []
    },
    {
      "cell_type": "code",
      "source": [
        "contextualize_q_prompt = ChatPromptTemplate.from_messages(\n",
        "    [\n",
        "        ('system', contextualize_q_system_prompt),\n",
        "        MessagesPlaceholder(variable_name='chat_history'),\n",
        "        ('human', '{input}')\n",
        "    ]\n",
        ")"
      ],
      "metadata": {
        "id": "LcDHEHavmKRx"
      },
      "execution_count": 34,
      "outputs": []
    },
    {
      "cell_type": "code",
      "source": [
        "history_aware_retriever = create_history_aware_retriever(\n",
        "    llm,\n",
        "    retriever,\n",
        "    contextualize_q_prompt\n",
        ")"
      ],
      "metadata": {
        "id": "R1F2l6JNmwfF"
      },
      "execution_count": 35,
      "outputs": []
    },
    {
      "cell_type": "code",
      "source": [
        "from langchain.chains.combine_documents import create_stuff_documents_chain"
      ],
      "metadata": {
        "id": "lcPKNbvCncak"
      },
      "execution_count": 36,
      "outputs": []
    },
    {
      "cell_type": "code",
      "source": [
        "qa_prompt = ChatPromptTemplate.from_messages(\n",
        "    [\n",
        "        ('system', system_propmt),\n",
        "        MessagesPlaceholder(variable_name='chat_history'),\n",
        "        ('human', '{input}')\n",
        "    ]\n",
        ")"
      ],
      "metadata": {
        "id": "JnA3Ngrhnv3P"
      },
      "execution_count": 40,
      "outputs": []
    },
    {
      "cell_type": "code",
      "source": [
        "question_answer_chain = create_stuff_documents_chain(\n",
        "    llm,\n",
        "    qa_prompt\n",
        ")"
      ],
      "metadata": {
        "colab": {
          "base_uri": "https://localhost:8080/",
          "height": 333
        },
        "id": "Efd2Nq1UoQUa",
        "outputId": "a82ebd28-cc1b-4d49-c88d-3773d6814a9d"
      },
      "execution_count": 41,
      "outputs": [
        {
          "output_type": "error",
          "ename": "ValueError",
          "evalue": "Prompt must accept context as an input variable. Received prompt with input variables: ['', 'chat_history', 'input']",
          "traceback": [
            "\u001b[0;31m---------------------------------------------------------------------------\u001b[0m",
            "\u001b[0;31mValueError\u001b[0m                                Traceback (most recent call last)",
            "\u001b[0;32m<ipython-input-41-7682ce854168>\u001b[0m in \u001b[0;36m<cell line: 1>\u001b[0;34m()\u001b[0m\n\u001b[0;32m----> 1\u001b[0;31m question_answer_chain = create_stuff_documents_chain(\n\u001b[0m\u001b[1;32m      2\u001b[0m     \u001b[0mllm\u001b[0m\u001b[0;34m,\u001b[0m\u001b[0;34m\u001b[0m\u001b[0;34m\u001b[0m\u001b[0m\n\u001b[1;32m      3\u001b[0m     \u001b[0mqa_prompt\u001b[0m\u001b[0;34m\u001b[0m\u001b[0;34m\u001b[0m\u001b[0m\n\u001b[1;32m      4\u001b[0m )\n",
            "\u001b[0;32m/usr/local/lib/python3.10/dist-packages/langchain/chains/combine_documents/stuff.py\u001b[0m in \u001b[0;36mcreate_stuff_documents_chain\u001b[0;34m(llm, prompt, output_parser, document_prompt, document_separator, document_variable_name)\u001b[0m\n\u001b[1;32m     77\u001b[0m     \"\"\"  # noqa: E501\n\u001b[1;32m     78\u001b[0m \u001b[0;34m\u001b[0m\u001b[0m\n\u001b[0;32m---> 79\u001b[0;31m     \u001b[0m_validate_prompt\u001b[0m\u001b[0;34m(\u001b[0m\u001b[0mprompt\u001b[0m\u001b[0;34m,\u001b[0m \u001b[0mdocument_variable_name\u001b[0m\u001b[0;34m)\u001b[0m\u001b[0;34m\u001b[0m\u001b[0;34m\u001b[0m\u001b[0m\n\u001b[0m\u001b[1;32m     80\u001b[0m     \u001b[0m_document_prompt\u001b[0m \u001b[0;34m=\u001b[0m \u001b[0mdocument_prompt\u001b[0m \u001b[0;32mor\u001b[0m \u001b[0mDEFAULT_DOCUMENT_PROMPT\u001b[0m\u001b[0;34m\u001b[0m\u001b[0;34m\u001b[0m\u001b[0m\n\u001b[1;32m     81\u001b[0m     \u001b[0m_output_parser\u001b[0m \u001b[0;34m=\u001b[0m \u001b[0moutput_parser\u001b[0m \u001b[0;32mor\u001b[0m \u001b[0mStrOutputParser\u001b[0m\u001b[0;34m(\u001b[0m\u001b[0;34m)\u001b[0m\u001b[0;34m\u001b[0m\u001b[0;34m\u001b[0m\u001b[0m\n",
            "\u001b[0;32m/usr/local/lib/python3.10/dist-packages/langchain/chains/combine_documents/base.py\u001b[0m in \u001b[0;36m_validate_prompt\u001b[0;34m(prompt, document_variable_name)\u001b[0m\n\u001b[1;32m     25\u001b[0m \u001b[0;32mdef\u001b[0m \u001b[0m_validate_prompt\u001b[0m\u001b[0;34m(\u001b[0m\u001b[0mprompt\u001b[0m\u001b[0;34m:\u001b[0m \u001b[0mBasePromptTemplate\u001b[0m\u001b[0;34m,\u001b[0m \u001b[0mdocument_variable_name\u001b[0m\u001b[0;34m:\u001b[0m \u001b[0mstr\u001b[0m\u001b[0;34m)\u001b[0m \u001b[0;34m->\u001b[0m \u001b[0;32mNone\u001b[0m\u001b[0;34m:\u001b[0m\u001b[0;34m\u001b[0m\u001b[0;34m\u001b[0m\u001b[0m\n\u001b[1;32m     26\u001b[0m     \u001b[0;32mif\u001b[0m \u001b[0mdocument_variable_name\u001b[0m \u001b[0;32mnot\u001b[0m \u001b[0;32min\u001b[0m \u001b[0mprompt\u001b[0m\u001b[0;34m.\u001b[0m\u001b[0minput_variables\u001b[0m\u001b[0;34m:\u001b[0m\u001b[0;34m\u001b[0m\u001b[0;34m\u001b[0m\u001b[0m\n\u001b[0;32m---> 27\u001b[0;31m         raise ValueError(\n\u001b[0m\u001b[1;32m     28\u001b[0m             \u001b[0;34mf\"Prompt must accept {document_variable_name} as an input variable. \"\u001b[0m\u001b[0;34m\u001b[0m\u001b[0;34m\u001b[0m\u001b[0m\n\u001b[1;32m     29\u001b[0m             \u001b[0;34mf\"Received prompt with input variables: {prompt.input_variables}\"\u001b[0m\u001b[0;34m\u001b[0m\u001b[0;34m\u001b[0m\u001b[0m\n",
            "\u001b[0;31mValueError\u001b[0m: Prompt must accept context as an input variable. Received prompt with input variables: ['', 'chat_history', 'input']"
          ]
        }
      ]
    }
  ]
}