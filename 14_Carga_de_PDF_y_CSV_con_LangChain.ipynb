{
  "nbformat": 4,
  "nbformat_minor": 0,
  "metadata": {
    "colab": {
      "provenance": []
    },
    "kernelspec": {
      "name": "python3",
      "display_name": "Python 3"
    },
    "language_info": {
      "name": "python"
    }
  },
  "cells": [
    {
      "cell_type": "code",
      "execution_count": 1,
      "metadata": {
        "colab": {
          "base_uri": "https://localhost:8080/"
        },
        "id": "Jt71e9v7Amv_",
        "outputId": "4a77ec87-4b21-4b1c-ac8d-29496b4b16ce"
      },
      "outputs": [
        {
          "output_type": "stream",
          "name": "stdout",
          "text": [
            "\u001b[?25l   \u001b[90m━━━━━━━━━━━━━━━━━━━━━━━━━━━━━━━━━━━━━━━━\u001b[0m \u001b[32m0.0/298.0 kB\u001b[0m \u001b[31m?\u001b[0m eta \u001b[36m-:--:--\u001b[0m\r\u001b[2K   \u001b[91m━━━━━━━━━━━━━━━━━━━━━━━━━━━━━━━━━━━━━━━\u001b[0m\u001b[91m╸\u001b[0m \u001b[32m297.0/298.0 kB\u001b[0m \u001b[31m12.6 MB/s\u001b[0m eta \u001b[36m0:00:01\u001b[0m\r\u001b[2K   \u001b[90m━━━━━━━━━━━━━━━━━━━━━━━━━━━━━━━━━━━━━━━━\u001b[0m \u001b[32m298.0/298.0 kB\u001b[0m \u001b[31m7.7 MB/s\u001b[0m eta \u001b[36m0:00:00\u001b[0m\n",
            "\u001b[?25h\u001b[?25l   \u001b[90m━━━━━━━━━━━━━━━━━━━━━━━━━━━━━━━━━━━━━━━━\u001b[0m \u001b[32m0.0/1.0 MB\u001b[0m \u001b[31m?\u001b[0m eta \u001b[36m-:--:--\u001b[0m\r\u001b[2K   \u001b[91m━━━━━━━━━━━━━━━━━━━━━━━━━━━━━━━━━━━━━━━\u001b[0m\u001b[91m╸\u001b[0m \u001b[32m1.0/1.0 MB\u001b[0m \u001b[31m49.5 MB/s\u001b[0m eta \u001b[36m0:00:01\u001b[0m\r\u001b[2K   \u001b[90m━━━━━━━━━━━━━━━━━━━━━━━━━━━━━━━━━━━━━━━━\u001b[0m \u001b[32m1.0/1.0 MB\u001b[0m \u001b[31m26.0 MB/s\u001b[0m eta \u001b[36m0:00:00\u001b[0m\n",
            "\u001b[2K   \u001b[90m━━━━━━━━━━━━━━━━━━━━━━━━━━━━━━━━━━━━━━━━\u001b[0m \u001b[32m2.4/2.4 MB\u001b[0m \u001b[31m63.2 MB/s\u001b[0m eta \u001b[36m0:00:00\u001b[0m\n",
            "\u001b[2K   \u001b[90m━━━━━━━━━━━━━━━━━━━━━━━━━━━━━━━━━━━━━━━━\u001b[0m \u001b[32m408.7/408.7 kB\u001b[0m \u001b[31m23.5 MB/s\u001b[0m eta \u001b[36m0:00:00\u001b[0m\n",
            "\u001b[2K   \u001b[90m━━━━━━━━━━━━━━━━━━━━━━━━━━━━━━━━━━━━━━━━\u001b[0m \u001b[32m3.1/3.1 MB\u001b[0m \u001b[31m69.8 MB/s\u001b[0m eta \u001b[36m0:00:00\u001b[0m\n",
            "\u001b[2K   \u001b[90m━━━━━━━━━━━━━━━━━━━━━━━━━━━━━━━━━━━━━━━━\u001b[0m \u001b[32m49.5/49.5 kB\u001b[0m \u001b[31m3.1 MB/s\u001b[0m eta \u001b[36m0:00:00\u001b[0m\n",
            "\u001b[?25h"
          ]
        }
      ],
      "source": [
        "!pip install --upgrade --quiet pypdf langchain langchain-community"
      ]
    },
    {
      "cell_type": "code",
      "source": [
        "!pip install faiss-cpu faiss-gpu --quiet"
      ],
      "metadata": {
        "colab": {
          "base_uri": "https://localhost:8080/"
        },
        "id": "Cojy5x4GhFrD",
        "outputId": "4be7d218-e821-4426-f019-93ca812b0c4a"
      },
      "execution_count": 8,
      "outputs": [
        {
          "output_type": "stream",
          "name": "stdout",
          "text": [
            "\u001b[2K   \u001b[90m━━━━━━━━━━━━━━━━━━━━━━━━━━━━━━━━━━━━━━━━\u001b[0m \u001b[32m27.5/27.5 MB\u001b[0m \u001b[31m38.4 MB/s\u001b[0m eta \u001b[36m0:00:00\u001b[0m\n",
            "\u001b[2K   \u001b[90m━━━━━━━━━━━━━━━━━━━━━━━━━━━━━━━━━━━━━━━━\u001b[0m \u001b[32m85.5/85.5 MB\u001b[0m \u001b[31m6.2 MB/s\u001b[0m eta \u001b[36m0:00:00\u001b[0m\n",
            "\u001b[?25h"
          ]
        }
      ]
    },
    {
      "cell_type": "code",
      "source": [
        "!ls"
      ],
      "metadata": {
        "colab": {
          "base_uri": "https://localhost:8080/"
        },
        "id": "uQnPOqPnBIEh",
        "outputId": "1f73e7f2-c7af-4023-adc0-84581de1cf00"
      },
      "execution_count": 2,
      "outputs": [
        {
          "output_type": "stream",
          "name": "stdout",
          "text": [
            "example.txt  lorem-ipsum.pdf  sample_data\n"
          ]
        }
      ]
    },
    {
      "cell_type": "code",
      "source": [
        "file_path = (\n",
        "    \"lorem-ipsum.pdf\"\n",
        ")\n",
        "loader = PyPDFLoader(file_path)\n",
        "pages = loader.load_and_split()\n",
        "\n",
        "pages[0].page_content"
      ],
      "metadata": {
        "colab": {
          "base_uri": "https://localhost:8080/",
          "height": 171
        },
        "id": "x7mxl4OrBJmM",
        "outputId": "48add644-37fd-406d-9676-518ff9f67a8d"
      },
      "execution_count": 6,
      "outputs": [
        {
          "output_type": "execute_result",
          "data": {
            "text/plain": [
              "'Test\\xa0document\\xa0PDF\\xa0\\n\\xa0\\nLorem\\xa0ipsum\\xa0dolor\\xa0sit\\xa0amet,\\xa0consectetur\\xa0adipiscing\\xa0elit.\\xa0Nulla\\xa0est\\xa0purus,\\xa0ultrices\\xa0in\\xa0porttitor\\xa0\\nin,\\xa0accumsan\\xa0non\\xa0quam.\\xa0Nam\\xa0consectetur\\xa0porttitor\\xa0rhoncus.\\xa0Curabitur\\xa0eu\\xa0est\\xa0et\\xa0leo\\xa0feugiat\\xa0\\nauctor\\xa0vel\\xa0quis\\xa0lorem.\\xa0Ut\\xa0et\\xa0ligula\\xa0dolor,\\xa0sit\\xa0amet\\xa0consequat\\xa0lorem.\\xa0Aliquam\\xa0porta\\xa0eros\\xa0sed\\xa0\\nvelit\\xa0imperdiet\\xa0egestas.\\xa0Maecenas\\xa0tempus\\xa0eros\\xa0ut\\xa0diam\\xa0ullamcorper\\xa0id\\xa0dictum\\xa0libero\\xa0\\ntempor.\\xa0Donec\\xa0quis\\xa0augue\\xa0quis\\xa0magna\\xa0condimentum\\xa0lobortis.\\xa0Quisque\\xa0imperdiet\\xa0ipsum\\xa0vel\\xa0\\nmagna\\xa0viverra\\xa0rutrum.\\xa0Cras\\xa0viverra\\xa0molestie\\xa0urna,\\xa0vitae\\xa0vestibulum\\xa0turpis\\xa0varius\\xa0id.\\xa0\\nVestibulum\\xa0mollis,\\xa0arcu\\xa0iaculis\\xa0bibendum\\xa0varius,\\xa0velit\\xa0sapien\\xa0blandit\\xa0metus,\\xa0ac\\xa0posuere\\xa0lorem\\xa0\\nnulla\\xa0ac\\xa0dolor.\\xa0Maecenas\\xa0urna\\xa0elit,\\xa0tincidunt\\xa0in\\xa0dapibus\\xa0nec,\\xa0vehicula\\xa0eu\\xa0dui.\\xa0Duis\\xa0lacinia\\xa0\\nfringilla\\xa0massa.\\xa0Cum\\xa0sociis\\xa0natoque\\xa0penatibus\\xa0et\\xa0magnis\\xa0dis\\xa0parturient\\xa0montes,\\xa0nascetur\\xa0\\nridiculus\\xa0mus.\\xa0Ut\\xa0consequat\\xa0ultricies\\xa0est,\\xa0non\\xa0rhoncus\\xa0mauris\\xa0congue\\xa0porta.\\xa0Vivamus\\xa0viverra\\xa0\\nsuscipit\\xa0felis\\xa0eget\\xa0condimentum.\\xa0Cum\\xa0sociis\\xa0natoque\\xa0penatibus\\xa0et\\xa0magnis\\xa0dis\\xa0parturient\\xa0\\nmontes,\\xa0nascetur\\xa0ridiculus\\xa0mus.\\xa0Integer\\xa0bibendum\\xa0sagittis\\xa0ligula,\\xa0non\\xa0faucibus\\xa0nulla\\xa0volutpat\\xa0\\nvitae.\\xa0Cum\\xa0sociis\\xa0natoque\\xa0penatibus\\xa0et\\xa0magnis\\xa0dis\\xa0parturient\\xa0montes,\\xa0nascetur\\xa0ridiculus\\xa0mus.\\xa0\\xa0\\nIn\\xa0aliquet\\xa0quam\\xa0et\\xa0velit\\xa0bibendum\\xa0accumsan.\\xa0Cum\\xa0sociis\\xa0natoque\\xa0penatibus\\xa0et\\xa0magnis\\xa0dis\\xa0\\nparturient\\xa0montes,\\xa0nascetur\\xa0ridiculus\\xa0mus.\\xa0Vestibulum\\xa0vitae\\xa0ipsum\\xa0nec\\xa0arcu\\xa0semper\\xa0\\nadipiscing\\xa0at\\xa0ac\\xa0lacus.\\xa0Praesent\\xa0id\\xa0pellentesque\\xa0orci.\\xa0Morbi\\xa0congue\\xa0viverra\\xa0nisl\\xa0nec\\xa0rhoncus.\\xa0\\nInteger\\xa0mattis,\\xa0ipsum\\xa0a\\xa0tincidunt\\xa0commodo,\\xa0lacus\\xa0arcu\\xa0elementum\\xa0elit,\\xa0at\\xa0mollis\\xa0eros\\xa0ante\\xa0ac\\xa0\\nrisus.\\xa0In\\xa0volutpat,\\xa0ante\\xa0at\\xa0pretium\\xa0ultricies,\\xa0velit\\xa0magna\\xa0suscipit\\xa0enim,\\xa0aliquet\\xa0blandit\\xa0massa\\xa0\\norci\\xa0nec\\xa0lorem.\\xa0Nulla\\xa0facilisi.\\xa0Duis\\xa0eu\\xa0vehicula\\xa0arcu.\\xa0Nulla\\xa0facilisi.\\xa0Maecenas\\xa0pellentesque\\xa0\\nvolutpat\\xa0felis,\\xa0quis\\xa0tristique\\xa0ligula\\xa0luctus\\xa0vel.\\xa0Sed\\xa0nec\\xa0mi\\xa0eros.\\xa0Integer\\xa0augue\\xa0enim,\\xa0sollicitudin\\xa0\\nullamcorper\\xa0mattis\\xa0eget,\\xa0aliquam\\xa0in\\xa0est.\\xa0Morbi\\xa0sollicitudin\\xa0libero\\xa0nec\\xa0augue\\xa0dignissim\\xa0ut\\xa0\\nconsectetur\\xa0dui\\xa0volutpat.\\xa0Nulla\\xa0facilisi.\\xa0Mauris\\xa0egestas\\xa0vestibulum\\xa0neque\\xa0cursus\\xa0tincidunt.\\xa0\\nDonec\\xa0sit\\xa0amet\\xa0pulvinar\\xa0orci.\\xa0\\xa0\\nQuisque\\xa0volutpat\\xa0pharetra\\xa0tincidunt.\\xa0Fusce\\xa0sapien\\xa0arcu,\\xa0molestie\\xa0eget\\xa0varius\\xa0egestas,\\xa0\\nfaucibus\\xa0ac\\xa0urna.\\xa0Sed\\xa0at\\xa0nisi\\xa0in\\xa0velit\\xa0egestas\\xa0aliquam\\xa0ut\\xa0a\\xa0felis.\\xa0Aenean\\xa0malesuada\\xa0iaculis\\xa0nisl,\\xa0\\nut\\xa0tempor\\xa0lacus\\xa0egestas\\xa0consequat.\\xa0Nam\\xa0nibh\\xa0lectus,\\xa0gravida\\xa0sed\\xa0egestas\\xa0ut,\\xa0feugiat\\xa0quis\\xa0\\ndolor.\\xa0Donec\\xa0eu\\xa0leo\\xa0enim,\\xa0non\\xa0laoreet\\xa0ante.\\xa0Morbi\\xa0dictum\\xa0tempor\\xa0vulputate.\\xa0Phasellus\\xa0\\nultricies\\xa0risus\\xa0vel\\xa0augue\\xa0sagittis\\xa0euismod.\\xa0Vivamus\\xa0tincidunt\\xa0placerat\\xa0nisi\\xa0in\\xa0aliquam.\\xa0Cras\\xa0\\nquis\\xa0mi\\xa0ac\\xa0nunc\\xa0pretium\\xa0aliquam.\\xa0Aenean\\xa0elementum\\xa0erat\\xa0ac\\xa0metus\\xa0commodo\\xa0rhoncus.\\xa0\\nAliquam\\xa0nulla\\xa0augue,\\xa0porta\\xa0non\\xa0sagittis\\xa0quis,\\xa0accumsan\\xa0vitae\\xa0sem.\\xa0Phasellus\\xa0id\\xa0lectus\\xa0tortor,\\xa0\\neget\\xa0pulvinar\\xa0augue.\\xa0Etiam\\xa0eget\\xa0velit\\xa0ac\\xa0purus\\xa0fringilla\\xa0blandit.\\xa0Donec\\xa0odio\\xa0odio,\\xa0sagittis\\xa0sed\\xa0\\niaculis\\xa0sed,\\xa0consectetur\\xa0eget\\xa0sem.\\xa0Lorem\\xa0ipsum\\xa0dolor\\xa0sit\\xa0amet,\\xa0consectetur\\xa0adipiscing\\xa0elit.\\xa0\\nMaecenas\\xa0accumsan\\xa0velit\\xa0vel\\xa0turpis\\xa0rutrum\\xa0in\\xa0sodales\\xa0diam\\xa0placerat.\\xa0\\xa0\\nQuisque\\xa0luctus\\xa0ullamcorper\\xa0velit\\xa0sit\\xa0amet\\xa0lobortis.\\xa0Etiam\\xa0ligula\\xa0felis,\\xa0vulputate\\xa0quis\\xa0rhoncus\\xa0\\nnec,\\xa0fermentum\\xa0eget\\xa0odio.\\xa0Vivamus\\xa0vel\\xa0ipsum\\xa0ac\\xa0augue\\xa0sodales\\xa0mollis\\xa0euismod\\xa0nec\\xa0tellus.\\xa0\\nFusce\\xa0et\\xa0augue\\xa0rutrum\\xa0nunc\\xa0semper\\xa0vehicula\\xa0vel\\xa0semper\\xa0nisl.\\xa0Nam\\xa0laoreet\\xa0euismod\\xa0quam\\xa0at\\xa0\\nvarius.\\xa0Sed\\xa0aliquet\\xa0auctor\\xa0nibh.\\xa0Curabitur\\xa0malesuada\\xa0fermentum\\xa0lacus\\xa0vel\\xa0accumsan.\\xa0Duis\\xa0\\nornare\\xa0scelerisque\\xa0nulla,\\xa0ac\\xa0pulvinar\\xa0ligula\\xa0tempus\\xa0sit\\xa0amet.\\xa0In\\xa0placerat\\xa0nulla\\xa0ac\\xa0ante\\xa0\\nscelerisque\\xa0posuere.\\xa0Phasellus\\xa0at\\xa0ante\\xa0felis.\\xa0Sed\\xa0hendrerit\\xa0risus\\xa0a\\xa0metus\\xa0posuere\\xa0rutrum.\\xa0\\nPhasellus\\xa0eu\\xa0augue\\xa0dui.\\xa0Proin\\xa0in\\xa0vestibulum\\xa0ipsum.\\xa0Aenean\\xa0accumsan\\xa0mollis\\xa0sapien,\\xa0ut\\xa0\\neleifend\\xa0sem\\xa0blandit\\xa0at.\\xa0Vivamus\\xa0luctus\\xa0mi\\xa0eget\\xa0lorem\\xa0lobortis\\xa0pharetra.\\xa0Phasellus\\xa0at\\xa0tortor\\xa0\\nquam,\\xa0a\\xa0volutpat\\xa0purus.\\xa0Etiam\\xa0sollicitudin\\xa0arcu\\xa0vel\\xa0elit\\xa0bibendum\\xa0et\\xa0imperdiet\\xa0risus\\xa0tincidunt.\\xa0\\nEtiam\\xa0elit\\xa0velit,\\xa0posuere\\xa0ut\\xa0pulvinar\\xa0ac,\\xa0condimentum\\xa0eget\\xa0justo.\\xa0Fusce\\xa0a\\xa0erat\\xa0velit.\\xa0Vivamus\\xa0\\nimperdiet\\xa0ultrices\\xa0orci\\xa0in\\xa0hendrerit.'"
            ],
            "application/vnd.google.colaboratory.intrinsic+json": {
              "type": "string"
            }
          },
          "metadata": {},
          "execution_count": 6
        }
      ]
    },
    {
      "cell_type": "code",
      "source": [
        "from langchain_community.document_loaders import PyPDFLoader"
      ],
      "metadata": {
        "id": "uZoxgbAyA9C2"
      },
      "execution_count": 3,
      "outputs": []
    },
    {
      "cell_type": "code",
      "source": [
        "!pip install langchain-openai --quiet"
      ],
      "metadata": {
        "colab": {
          "base_uri": "https://localhost:8080/"
        },
        "id": "pBTUc_k8hqYZ",
        "outputId": "69285e74-96a8-43f7-c557-3dd03a8c8069"
      },
      "execution_count": 13,
      "outputs": [
        {
          "output_type": "stream",
          "name": "stdout",
          "text": [
            "\u001b[2K   \u001b[90m━━━━━━━━━━━━━━━━━━━━━━━━━━━━━━━━━━━━━━━━\u001b[0m \u001b[32m50.4/50.4 kB\u001b[0m \u001b[31m1.6 MB/s\u001b[0m eta \u001b[36m0:00:00\u001b[0m\n",
            "\u001b[2K   \u001b[90m━━━━━━━━━━━━━━━━━━━━━━━━━━━━━━━━━━━━━━━━\u001b[0m \u001b[32m1.2/1.2 MB\u001b[0m \u001b[31m16.3 MB/s\u001b[0m eta \u001b[36m0:00:00\u001b[0m\n",
            "\u001b[?25h"
          ]
        }
      ]
    },
    {
      "cell_type": "code",
      "source": [
        "from langchain_community.vectorstores import FAISS\n",
        "from langchain_openai import OpenAIEmbeddings"
      ],
      "metadata": {
        "id": "iO3BpubghZmP"
      },
      "execution_count": 15,
      "outputs": []
    },
    {
      "cell_type": "code",
      "source": [
        "import getpass\n",
        "import os\n",
        "\n",
        "if \"OPENAI_API_KEY\" not in os.environ:\n",
        "    os.environ[\"OPENAI_API_KEY\"] = getpass.getpass(\"Enter your OpenAI API key: \")"
      ],
      "metadata": {
        "colab": {
          "base_uri": "https://localhost:8080/"
        },
        "id": "XwK3t7ljinv9",
        "outputId": "d7ba5900-db51-4d1f-aa46-d9e9ba7aec33"
      },
      "execution_count": 17,
      "outputs": [
        {
          "name": "stdout",
          "output_type": "stream",
          "text": [
            "Enter your OpenAI API key: ··········\n"
          ]
        }
      ]
    },
    {
      "cell_type": "code",
      "source": [
        "faiss_index = FAISS.from_documents(pages, OpenAIEmbeddings())\n",
        "docs = faiss_index.similarity_search(\"lorem ipsum\", k=2)"
      ],
      "metadata": {
        "id": "QdcsoNWlB-a1"
      },
      "execution_count": 18,
      "outputs": []
    },
    {
      "cell_type": "markdown",
      "source": [
        "###Preguntamos al documento y obtenemos en este caso los dos vecionos mas cercanos"
      ],
      "metadata": {
        "id": "LFa-yE-kjgJW"
      }
    },
    {
      "cell_type": "code",
      "source": [
        "for doc in docs:\n",
        "    print(str(doc.metadata[\"page\"]) + \":\", doc.page_content[:300], \"...\")"
      ],
      "metadata": {
        "colab": {
          "base_uri": "https://localhost:8080/"
        },
        "id": "XZbYffOHicfo",
        "outputId": "1536a021-908c-471c-c18f-24cd5fdeda24"
      },
      "execution_count": 19,
      "outputs": [
        {
          "output_type": "stream",
          "name": "stdout",
          "text": [
            "0: Test document PDF \n",
            " \n",
            "Lorem ipsum dolor sit amet, consectetur adipiscing elit. Nulla est purus, ultrices in porttitor \n",
            "in, accumsan non quam. Nam consectetur porttitor rhoncus. Curabitur eu est et leo feugiat \n",
            "auctor vel quis lorem. Ut et ligula dolor, sit amet consequat lorem. Aliquam porta eros sed ...\n"
          ]
        }
      ]
    },
    {
      "cell_type": "code",
      "source": [],
      "metadata": {
        "id": "57WZB-ybjfJX"
      },
      "execution_count": null,
      "outputs": []
    }
  ]
}